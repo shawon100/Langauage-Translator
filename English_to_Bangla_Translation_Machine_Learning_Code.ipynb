{
  "nbformat": 4,
  "nbformat_minor": 0,
  "metadata": {
    "colab": {
      "name": "English to Bangla Translation Machine Learning Code.ipynb",
      "provenance": []
    },
    "kernelspec": {
      "name": "python3",
      "display_name": "Python 3"
    },
    "language_info": {
      "name": "python"
    },
    "accelerator": "GPU"
  },
  "cells": [
    {
      "cell_type": "code",
      "metadata": {
        "id": "Iff_7SZUThay"
      },
      "source": [
        "! pip install transformers sentencepiece -q"
      ],
      "execution_count": null,
      "outputs": []
    },
    {
      "cell_type": "code",
      "metadata": {
        "id": "pwfbHbcKUNi1"
      },
      "source": [
        "from transformers import pipeline"
      ],
      "execution_count": null,
      "outputs": []
    },
    {
      "cell_type": "code",
      "metadata": {
        "id": "i_o1_1VVUmqY"
      },
      "source": [
        "pipe= pipeline('text2text-generation', model=\"facebook/m2m100_418M\")"
      ],
      "execution_count": null,
      "outputs": []
    },
    {
      "cell_type": "code",
      "metadata": {
        "id": "OvjwU8cHVTeP"
      },
      "source": [
        "output=pipe('To get latest important tutorials visit my blog by clicking this link: https://www.shawonruet.com/', forced_bos_token_id=pipe.tokenizer.get_lang_id('bn'))"
      ],
      "execution_count": null,
      "outputs": []
    },
    {
      "cell_type": "code",
      "metadata": {
        "colab": {
          "base_uri": "https://localhost:8080/"
        },
        "id": "V5yZVuOWVwcK",
        "outputId": "e46810fd-b896-4718-cce2-99a00b36f788"
      },
      "source": [
        "tln=output[0]\n",
        "for item in tln:\n",
        "     print(tln[item]);"
      ],
      "execution_count": null,
      "outputs": [
        {
          "output_type": "stream",
          "text": [
            "সর্বশেষ গুরুত্বপূর্ণ টিউটরিয়াল পেতে, এই লিঙ্কটি ক্লিক করে আমার ব্লগে দেখুন: https://www.shawonruet.com/\n"
          ],
          "name": "stdout"
        }
      ]
    },
    {
      "cell_type": "code",
      "metadata": {
        "id": "LJk9iwjaWjo5"
      },
      "source": [
        "output=pipe('Please visit my blog and share with your friends: https://www.shawonruet.com/', forced_bos_token_id=pipe.tokenizer.get_lang_id('bn'))"
      ],
      "execution_count": null,
      "outputs": []
    },
    {
      "cell_type": "code",
      "metadata": {
        "colab": {
          "base_uri": "https://localhost:8080/"
        },
        "id": "xQoGK9SgWvJk",
        "outputId": "8a0477c6-7441-4b5e-a06a-cc83db33068d"
      },
      "source": [
        "tln=output[0]\n",
        "for item in tln:\n",
        "     print(tln[item]);"
      ],
      "execution_count": null,
      "outputs": [
        {
          "output_type": "stream",
          "text": [
            "দয়া করে আমার ব্লগ দেখুন এবং আপনার বন্ধুদের সাথে শেয়ার করুন: https://www.shawonruet.com/\n"
          ],
          "name": "stdout"
        }
      ]
    },
    {
      "cell_type": "code",
      "metadata": {
        "id": "n-kOIZjJY2AZ"
      },
      "source": [
        ""
      ],
      "execution_count": null,
      "outputs": []
    }
  ]
}